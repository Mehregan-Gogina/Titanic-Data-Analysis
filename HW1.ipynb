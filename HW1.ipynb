{
  "cells": [
    {
      "cell_type": "markdown",
      "metadata": {
        "id": "6yDr1BsTqoXT"
      },
      "source": [
        "# Task\n",
        "### **Colab Prompt for Titanic Survival Prediction**\n",
        "\n",
        "I want to build a neural network to predict passenger survival in the Titanic disaster **without using frameworks like PyTorch or TensorFlow**. The implementation should include:\n",
        "\n",
        "1. **Data Loading & Preprocessing:**\n",
        "   - Load `train.csv` and `test.csv` using `pandas`.\n",
        "   - Handle missing values (drop rows or fill with median/mean).\n",
        "   - Encode categorical variables (like `sex`, `embarked`) into numerical values.\n",
        "   - Normalize numerical features (`age`, `fare`, etc.).\n",
        "\n",
        "2. **Manual Neural Network Implementation:**\n",
        "   - Randomly initialize weights and biases.\n",
        "   - Implement **Forward Propagation**.\n",
        "   - Implement **Backpropagation** to calculate gradients.\n",
        "   - Update parameters using **Gradient Descent**.\n",
        "\n",
        "3. **Training & Evaluation:**\n",
        "   - Train the network on the training data.\n",
        "   - Plot the **loss curve** across epochs.\n",
        "   - Make predictions on the test set.\n",
        "\n",
        "4. **Output:**\n",
        "   - Save predictions in a CSV file (`predictions.csv`).\n",
        "   - Include both passenger ID and predicted survival (0 or 1).\n",
        "\n",
        "5. **Extras:**\n",
        "   - Visualize accuracy and loss.\n",
        "   - Print accuracy on a validation set.\n",
        "\n",
        "Please generate the complete code for this, split into appropriate sections with comments explaining each step! 🛠️\n",
        "\n",
        "Here is all the data you need:\n",
        "\"test.csv\"\n",
        "\"train.csv\""
      ]
    },
    {
      "cell_type": "markdown",
      "metadata": {
        "id": "CNkNH3MLqonD"
      },
      "source": [
        "## Data loading\n",
        "\n",
        "### Subtask:\n",
        "Load the provided CSV files, `train.csv` and `test.csv`, into pandas DataFrames.\n"
      ]
    },
    {
      "cell_type": "markdown",
      "metadata": {
        "id": "K7x9hhnoqpd_"
      },
      "source": [
        "**Reasoning**:\n",
        "Load the provided CSV files into pandas DataFrames.\n",
        "\n"
      ]
    },
    {
      "cell_type": "code",
      "execution_count": 10,
      "metadata": {
        "colab": {
          "base_uri": "https://localhost:8080/",
          "height": 656
        },
        "id": "SPynEipxqptx",
        "outputId": "e4a376ed-fbf5-42dd-e333-361bc85bf5f8"
      },
      "outputs": [
        {
          "data": {
            "application/vnd.microsoft.datawrangler.viewer.v0+json": {
              "columns": [
                {
                  "name": "index",
                  "rawType": "int64",
                  "type": "integer"
                },
                {
                  "name": "PassengerId",
                  "rawType": "int64",
                  "type": "integer"
                },
                {
                  "name": "Survived",
                  "rawType": "int64",
                  "type": "integer"
                },
                {
                  "name": "Pclass",
                  "rawType": "int64",
                  "type": "integer"
                },
                {
                  "name": "Name",
                  "rawType": "object",
                  "type": "string"
                },
                {
                  "name": "Sex",
                  "rawType": "object",
                  "type": "string"
                },
                {
                  "name": "Age",
                  "rawType": "float64",
                  "type": "float"
                },
                {
                  "name": "SibSp",
                  "rawType": "int64",
                  "type": "integer"
                },
                {
                  "name": "Parch",
                  "rawType": "int64",
                  "type": "integer"
                },
                {
                  "name": "Ticket",
                  "rawType": "object",
                  "type": "string"
                },
                {
                  "name": "Fare",
                  "rawType": "float64",
                  "type": "float"
                },
                {
                  "name": "Cabin",
                  "rawType": "object",
                  "type": "unknown"
                },
                {
                  "name": "Embarked",
                  "rawType": "object",
                  "type": "string"
                }
              ],
              "conversionMethod": "pd.DataFrame",
              "ref": "d9ff4ca4-6d31-4484-b00d-0a362321ef61",
              "rows": [
                [
                  "0",
                  "1",
                  "0",
                  "3",
                  "Braund, Mr. Owen Harris",
                  "male",
                  "22.0",
                  "1",
                  "0",
                  "A/5 21171",
                  "7.25",
                  null,
                  "S"
                ],
                [
                  "1",
                  "2",
                  "1",
                  "1",
                  "Cumings, Mrs. John Bradley (Florence Briggs Thayer)",
                  "female",
                  "38.0",
                  "1",
                  "0",
                  "PC 17599",
                  "71.2833",
                  "C85",
                  "C"
                ],
                [
                  "2",
                  "3",
                  "1",
                  "3",
                  "Heikkinen, Miss. Laina",
                  "female",
                  "26.0",
                  "0",
                  "0",
                  "STON/O2. 3101282",
                  "7.925",
                  null,
                  "S"
                ],
                [
                  "3",
                  "4",
                  "1",
                  "1",
                  "Futrelle, Mrs. Jacques Heath (Lily May Peel)",
                  "female",
                  "35.0",
                  "1",
                  "0",
                  "113803",
                  "53.1",
                  "C123",
                  "S"
                ],
                [
                  "4",
                  "5",
                  "0",
                  "3",
                  "Allen, Mr. William Henry",
                  "male",
                  "35.0",
                  "0",
                  "0",
                  "373450",
                  "8.05",
                  null,
                  "S"
                ]
              ],
              "shape": {
                "columns": 12,
                "rows": 5
              }
            },
            "text/html": [
              "<div>\n",
              "<style scoped>\n",
              "    .dataframe tbody tr th:only-of-type {\n",
              "        vertical-align: middle;\n",
              "    }\n",
              "\n",
              "    .dataframe tbody tr th {\n",
              "        vertical-align: top;\n",
              "    }\n",
              "\n",
              "    .dataframe thead th {\n",
              "        text-align: right;\n",
              "    }\n",
              "</style>\n",
              "<table border=\"1\" class=\"dataframe\">\n",
              "  <thead>\n",
              "    <tr style=\"text-align: right;\">\n",
              "      <th></th>\n",
              "      <th>PassengerId</th>\n",
              "      <th>Survived</th>\n",
              "      <th>Pclass</th>\n",
              "      <th>Name</th>\n",
              "      <th>Sex</th>\n",
              "      <th>Age</th>\n",
              "      <th>SibSp</th>\n",
              "      <th>Parch</th>\n",
              "      <th>Ticket</th>\n",
              "      <th>Fare</th>\n",
              "      <th>Cabin</th>\n",
              "      <th>Embarked</th>\n",
              "    </tr>\n",
              "  </thead>\n",
              "  <tbody>\n",
              "    <tr>\n",
              "      <th>0</th>\n",
              "      <td>1</td>\n",
              "      <td>0</td>\n",
              "      <td>3</td>\n",
              "      <td>Braund, Mr. Owen Harris</td>\n",
              "      <td>male</td>\n",
              "      <td>22.0</td>\n",
              "      <td>1</td>\n",
              "      <td>0</td>\n",
              "      <td>A/5 21171</td>\n",
              "      <td>7.2500</td>\n",
              "      <td>NaN</td>\n",
              "      <td>S</td>\n",
              "    </tr>\n",
              "    <tr>\n",
              "      <th>1</th>\n",
              "      <td>2</td>\n",
              "      <td>1</td>\n",
              "      <td>1</td>\n",
              "      <td>Cumings, Mrs. John Bradley (Florence Briggs Th...</td>\n",
              "      <td>female</td>\n",
              "      <td>38.0</td>\n",
              "      <td>1</td>\n",
              "      <td>0</td>\n",
              "      <td>PC 17599</td>\n",
              "      <td>71.2833</td>\n",
              "      <td>C85</td>\n",
              "      <td>C</td>\n",
              "    </tr>\n",
              "    <tr>\n",
              "      <th>2</th>\n",
              "      <td>3</td>\n",
              "      <td>1</td>\n",
              "      <td>3</td>\n",
              "      <td>Heikkinen, Miss. Laina</td>\n",
              "      <td>female</td>\n",
              "      <td>26.0</td>\n",
              "      <td>0</td>\n",
              "      <td>0</td>\n",
              "      <td>STON/O2. 3101282</td>\n",
              "      <td>7.9250</td>\n",
              "      <td>NaN</td>\n",
              "      <td>S</td>\n",
              "    </tr>\n",
              "    <tr>\n",
              "      <th>3</th>\n",
              "      <td>4</td>\n",
              "      <td>1</td>\n",
              "      <td>1</td>\n",
              "      <td>Futrelle, Mrs. Jacques Heath (Lily May Peel)</td>\n",
              "      <td>female</td>\n",
              "      <td>35.0</td>\n",
              "      <td>1</td>\n",
              "      <td>0</td>\n",
              "      <td>113803</td>\n",
              "      <td>53.1000</td>\n",
              "      <td>C123</td>\n",
              "      <td>S</td>\n",
              "    </tr>\n",
              "    <tr>\n",
              "      <th>4</th>\n",
              "      <td>5</td>\n",
              "      <td>0</td>\n",
              "      <td>3</td>\n",
              "      <td>Allen, Mr. William Henry</td>\n",
              "      <td>male</td>\n",
              "      <td>35.0</td>\n",
              "      <td>0</td>\n",
              "      <td>0</td>\n",
              "      <td>373450</td>\n",
              "      <td>8.0500</td>\n",
              "      <td>NaN</td>\n",
              "      <td>S</td>\n",
              "    </tr>\n",
              "  </tbody>\n",
              "</table>\n",
              "</div>"
            ],
            "text/plain": [
              "   PassengerId  Survived  Pclass  \\\n",
              "0            1         0       3   \n",
              "1            2         1       1   \n",
              "2            3         1       3   \n",
              "3            4         1       1   \n",
              "4            5         0       3   \n",
              "\n",
              "                                                Name     Sex   Age  SibSp  \\\n",
              "0                            Braund, Mr. Owen Harris    male  22.0      1   \n",
              "1  Cumings, Mrs. John Bradley (Florence Briggs Th...  female  38.0      1   \n",
              "2                             Heikkinen, Miss. Laina  female  26.0      0   \n",
              "3       Futrelle, Mrs. Jacques Heath (Lily May Peel)  female  35.0      1   \n",
              "4                           Allen, Mr. William Henry    male  35.0      0   \n",
              "\n",
              "   Parch            Ticket     Fare Cabin Embarked  \n",
              "0      0         A/5 21171   7.2500   NaN        S  \n",
              "1      0          PC 17599  71.2833   C85        C  \n",
              "2      0  STON/O2. 3101282   7.9250   NaN        S  \n",
              "3      0            113803  53.1000  C123        S  \n",
              "4      0            373450   8.0500   NaN        S  "
            ]
          },
          "metadata": {},
          "output_type": "display_data"
        },
        {
          "data": {
            "application/vnd.microsoft.datawrangler.viewer.v0+json": {
              "columns": [
                {
                  "name": "index",
                  "rawType": "int64",
                  "type": "integer"
                },
                {
                  "name": "PassengerId",
                  "rawType": "int64",
                  "type": "integer"
                },
                {
                  "name": "Pclass",
                  "rawType": "int64",
                  "type": "integer"
                },
                {
                  "name": "Name",
                  "rawType": "object",
                  "type": "string"
                },
                {
                  "name": "Sex",
                  "rawType": "object",
                  "type": "string"
                },
                {
                  "name": "Age",
                  "rawType": "float64",
                  "type": "float"
                },
                {
                  "name": "SibSp",
                  "rawType": "int64",
                  "type": "integer"
                },
                {
                  "name": "Parch",
                  "rawType": "int64",
                  "type": "integer"
                },
                {
                  "name": "Ticket",
                  "rawType": "object",
                  "type": "string"
                },
                {
                  "name": "Fare",
                  "rawType": "float64",
                  "type": "float"
                },
                {
                  "name": "Cabin",
                  "rawType": "object",
                  "type": "unknown"
                },
                {
                  "name": "Embarked",
                  "rawType": "object",
                  "type": "string"
                }
              ],
              "conversionMethod": "pd.DataFrame",
              "ref": "f2656f31-e391-4b62-b4c5-fd395b4bb24e",
              "rows": [
                [
                  "0",
                  "892",
                  "3",
                  "Kelly, Mr. James",
                  "male",
                  "34.5",
                  "0",
                  "0",
                  "330911",
                  "7.8292",
                  null,
                  "Q"
                ],
                [
                  "1",
                  "893",
                  "3",
                  "Wilkes, Mrs. James (Ellen Needs)",
                  "female",
                  "47.0",
                  "1",
                  "0",
                  "363272",
                  "7.0",
                  null,
                  "S"
                ],
                [
                  "2",
                  "894",
                  "2",
                  "Myles, Mr. Thomas Francis",
                  "male",
                  "62.0",
                  "0",
                  "0",
                  "240276",
                  "9.6875",
                  null,
                  "Q"
                ],
                [
                  "3",
                  "895",
                  "3",
                  "Wirz, Mr. Albert",
                  "male",
                  "27.0",
                  "0",
                  "0",
                  "315154",
                  "8.6625",
                  null,
                  "S"
                ],
                [
                  "4",
                  "896",
                  "3",
                  "Hirvonen, Mrs. Alexander (Helga E Lindqvist)",
                  "female",
                  "22.0",
                  "1",
                  "1",
                  "3101298",
                  "12.2875",
                  null,
                  "S"
                ]
              ],
              "shape": {
                "columns": 11,
                "rows": 5
              }
            },
            "text/html": [
              "<div>\n",
              "<style scoped>\n",
              "    .dataframe tbody tr th:only-of-type {\n",
              "        vertical-align: middle;\n",
              "    }\n",
              "\n",
              "    .dataframe tbody tr th {\n",
              "        vertical-align: top;\n",
              "    }\n",
              "\n",
              "    .dataframe thead th {\n",
              "        text-align: right;\n",
              "    }\n",
              "</style>\n",
              "<table border=\"1\" class=\"dataframe\">\n",
              "  <thead>\n",
              "    <tr style=\"text-align: right;\">\n",
              "      <th></th>\n",
              "      <th>PassengerId</th>\n",
              "      <th>Pclass</th>\n",
              "      <th>Name</th>\n",
              "      <th>Sex</th>\n",
              "      <th>Age</th>\n",
              "      <th>SibSp</th>\n",
              "      <th>Parch</th>\n",
              "      <th>Ticket</th>\n",
              "      <th>Fare</th>\n",
              "      <th>Cabin</th>\n",
              "      <th>Embarked</th>\n",
              "    </tr>\n",
              "  </thead>\n",
              "  <tbody>\n",
              "    <tr>\n",
              "      <th>0</th>\n",
              "      <td>892</td>\n",
              "      <td>3</td>\n",
              "      <td>Kelly, Mr. James</td>\n",
              "      <td>male</td>\n",
              "      <td>34.5</td>\n",
              "      <td>0</td>\n",
              "      <td>0</td>\n",
              "      <td>330911</td>\n",
              "      <td>7.8292</td>\n",
              "      <td>NaN</td>\n",
              "      <td>Q</td>\n",
              "    </tr>\n",
              "    <tr>\n",
              "      <th>1</th>\n",
              "      <td>893</td>\n",
              "      <td>3</td>\n",
              "      <td>Wilkes, Mrs. James (Ellen Needs)</td>\n",
              "      <td>female</td>\n",
              "      <td>47.0</td>\n",
              "      <td>1</td>\n",
              "      <td>0</td>\n",
              "      <td>363272</td>\n",
              "      <td>7.0000</td>\n",
              "      <td>NaN</td>\n",
              "      <td>S</td>\n",
              "    </tr>\n",
              "    <tr>\n",
              "      <th>2</th>\n",
              "      <td>894</td>\n",
              "      <td>2</td>\n",
              "      <td>Myles, Mr. Thomas Francis</td>\n",
              "      <td>male</td>\n",
              "      <td>62.0</td>\n",
              "      <td>0</td>\n",
              "      <td>0</td>\n",
              "      <td>240276</td>\n",
              "      <td>9.6875</td>\n",
              "      <td>NaN</td>\n",
              "      <td>Q</td>\n",
              "    </tr>\n",
              "    <tr>\n",
              "      <th>3</th>\n",
              "      <td>895</td>\n",
              "      <td>3</td>\n",
              "      <td>Wirz, Mr. Albert</td>\n",
              "      <td>male</td>\n",
              "      <td>27.0</td>\n",
              "      <td>0</td>\n",
              "      <td>0</td>\n",
              "      <td>315154</td>\n",
              "      <td>8.6625</td>\n",
              "      <td>NaN</td>\n",
              "      <td>S</td>\n",
              "    </tr>\n",
              "    <tr>\n",
              "      <th>4</th>\n",
              "      <td>896</td>\n",
              "      <td>3</td>\n",
              "      <td>Hirvonen, Mrs. Alexander (Helga E Lindqvist)</td>\n",
              "      <td>female</td>\n",
              "      <td>22.0</td>\n",
              "      <td>1</td>\n",
              "      <td>1</td>\n",
              "      <td>3101298</td>\n",
              "      <td>12.2875</td>\n",
              "      <td>NaN</td>\n",
              "      <td>S</td>\n",
              "    </tr>\n",
              "  </tbody>\n",
              "</table>\n",
              "</div>"
            ],
            "text/plain": [
              "   PassengerId  Pclass                                          Name     Sex  \\\n",
              "0          892       3                              Kelly, Mr. James    male   \n",
              "1          893       3              Wilkes, Mrs. James (Ellen Needs)  female   \n",
              "2          894       2                     Myles, Mr. Thomas Francis    male   \n",
              "3          895       3                              Wirz, Mr. Albert    male   \n",
              "4          896       3  Hirvonen, Mrs. Alexander (Helga E Lindqvist)  female   \n",
              "\n",
              "    Age  SibSp  Parch   Ticket     Fare Cabin Embarked  \n",
              "0  34.5      0      0   330911   7.8292   NaN        Q  \n",
              "1  47.0      1      0   363272   7.0000   NaN        S  \n",
              "2  62.0      0      0   240276   9.6875   NaN        Q  \n",
              "3  27.0      0      0   315154   8.6625   NaN        S  \n",
              "4  22.0      1      1  3101298  12.2875   NaN        S  "
            ]
          },
          "metadata": {},
          "output_type": "display_data"
        }
      ],
      "source": [
        "import pandas as pd\n",
        "\n",
        "try:\n",
        "    df_train = pd.read_csv('train.csv')\n",
        "    df_test = pd.read_csv('test.csv')\n",
        "    display(df_train.head())\n",
        "    display(df_test.head())\n",
        "except FileNotFoundError:\n",
        "    print(\"Error: One or both of the CSV files were not found.\")"
      ]
    },
    {
      "cell_type": "markdown",
      "metadata": {
        "id": "lkcIwDdNqt-o"
      },
      "source": [
        "## Data exploration\n",
        "\n",
        "### Subtask:\n",
        "Explore the loaded datasets (`df_train` and `df_test`) to understand their structure, identify missing values, and analyze the distribution of features.\n"
      ]
    },
    {
      "cell_type": "markdown",
      "metadata": {
        "id": "JL1kzL87saxd"
      },
      "source": []
    },
    {
      "cell_type": "markdown",
      "metadata": {
        "id": "K-Ek3FNYquze"
      },
      "source": [
        "**Reasoning**:\n",
        "Explore the datasets by examining their shapes, info, descriptions, and distributions of key features, including the target variable 'Survived'.  Also check for duplicates and analyze categorical features.\n",
        "\n"
      ]
    },
    {
      "cell_type": "code",
      "execution_count": 11,
      "metadata": {
        "colab": {
          "base_uri": "https://localhost:8080/",
          "height": 1000
        },
        "id": "eeXmGUwsqvDN",
        "outputId": "fe0f13db-5522-4058-a356-d21c425a8cfa"
      },
      "outputs": [
        {
          "name": "stdout",
          "output_type": "stream",
          "text": [
            "Shape of df_train: (891, 12)\n",
            "Shape of df_test: (418, 11)\n",
            "\n",
            "Info of df_train:\n",
            "<class 'pandas.core.frame.DataFrame'>\n",
            "RangeIndex: 891 entries, 0 to 890\n",
            "Data columns (total 12 columns):\n",
            " #   Column       Non-Null Count  Dtype  \n",
            "---  ------       --------------  -----  \n",
            " 0   PassengerId  891 non-null    int64  \n",
            " 1   Survived     891 non-null    int64  \n",
            " 2   Pclass       891 non-null    int64  \n",
            " 3   Name         891 non-null    object \n",
            " 4   Sex          891 non-null    object \n",
            " 5   Age          714 non-null    float64\n",
            " 6   SibSp        891 non-null    int64  \n",
            " 7   Parch        891 non-null    int64  \n",
            " 8   Ticket       891 non-null    object \n",
            " 9   Fare         891 non-null    float64\n",
            " 10  Cabin        204 non-null    object \n",
            " 11  Embarked     889 non-null    object \n",
            "dtypes: float64(2), int64(5), object(5)\n",
            "memory usage: 83.7+ KB\n"
          ]
        },
        {
          "data": {
            "text/plain": [
              "None"
            ]
          },
          "metadata": {},
          "output_type": "display_data"
        },
        {
          "name": "stdout",
          "output_type": "stream",
          "text": [
            "\n",
            "Info of df_test:\n",
            "<class 'pandas.core.frame.DataFrame'>\n",
            "RangeIndex: 418 entries, 0 to 417\n",
            "Data columns (total 11 columns):\n",
            " #   Column       Non-Null Count  Dtype  \n",
            "---  ------       --------------  -----  \n",
            " 0   PassengerId  418 non-null    int64  \n",
            " 1   Pclass       418 non-null    int64  \n",
            " 2   Name         418 non-null    object \n",
            " 3   Sex          418 non-null    object \n",
            " 4   Age          332 non-null    float64\n",
            " 5   SibSp        418 non-null    int64  \n",
            " 6   Parch        418 non-null    int64  \n",
            " 7   Ticket       418 non-null    object \n",
            " 8   Fare         417 non-null    float64\n",
            " 9   Cabin        91 non-null     object \n",
            " 10  Embarked     418 non-null    object \n",
            "dtypes: float64(2), int64(4), object(5)\n",
            "memory usage: 36.0+ KB\n"
          ]
        },
        {
          "data": {
            "text/plain": [
              "None"
            ]
          },
          "metadata": {},
          "output_type": "display_data"
        },
        {
          "name": "stdout",
          "output_type": "stream",
          "text": [
            "\n",
            "Describe df_train:\n"
          ]
        },
        {
          "data": {
            "application/vnd.microsoft.datawrangler.viewer.v0+json": {
              "columns": [
                {
                  "name": "index",
                  "rawType": "object",
                  "type": "string"
                },
                {
                  "name": "PassengerId",
                  "rawType": "float64",
                  "type": "float"
                },
                {
                  "name": "Survived",
                  "rawType": "float64",
                  "type": "float"
                },
                {
                  "name": "Pclass",
                  "rawType": "float64",
                  "type": "float"
                },
                {
                  "name": "Age",
                  "rawType": "float64",
                  "type": "float"
                },
                {
                  "name": "SibSp",
                  "rawType": "float64",
                  "type": "float"
                },
                {
                  "name": "Parch",
                  "rawType": "float64",
                  "type": "float"
                },
                {
                  "name": "Fare",
                  "rawType": "float64",
                  "type": "float"
                }
              ],
              "conversionMethod": "pd.DataFrame",
              "ref": "467075f8-e361-404c-85fc-0053f56a8fc1",
              "rows": [
                [
                  "count",
                  "891.0",
                  "891.0",
                  "891.0",
                  "714.0",
                  "891.0",
                  "891.0",
                  "891.0"
                ],
                [
                  "mean",
                  "446.0",
                  "0.3838383838383838",
                  "2.308641975308642",
                  "29.69911764705882",
                  "0.5230078563411896",
                  "0.38159371492704824",
                  "32.204207968574636"
                ],
                [
                  "std",
                  "257.3538420152301",
                  "0.4865924542648575",
                  "0.836071240977049",
                  "14.526497332334042",
                  "1.1027434322934317",
                  "0.8060572211299483",
                  "49.6934285971809"
                ],
                [
                  "min",
                  "1.0",
                  "0.0",
                  "1.0",
                  "0.42",
                  "0.0",
                  "0.0",
                  "0.0"
                ],
                [
                  "25%",
                  "223.5",
                  "0.0",
                  "2.0",
                  "20.125",
                  "0.0",
                  "0.0",
                  "7.9104"
                ],
                [
                  "50%",
                  "446.0",
                  "0.0",
                  "3.0",
                  "28.0",
                  "0.0",
                  "0.0",
                  "14.4542"
                ],
                [
                  "75%",
                  "668.5",
                  "1.0",
                  "3.0",
                  "38.0",
                  "1.0",
                  "0.0",
                  "31.0"
                ],
                [
                  "max",
                  "891.0",
                  "1.0",
                  "3.0",
                  "80.0",
                  "8.0",
                  "6.0",
                  "512.3292"
                ]
              ],
              "shape": {
                "columns": 7,
                "rows": 8
              }
            },
            "text/html": [
              "<div>\n",
              "<style scoped>\n",
              "    .dataframe tbody tr th:only-of-type {\n",
              "        vertical-align: middle;\n",
              "    }\n",
              "\n",
              "    .dataframe tbody tr th {\n",
              "        vertical-align: top;\n",
              "    }\n",
              "\n",
              "    .dataframe thead th {\n",
              "        text-align: right;\n",
              "    }\n",
              "</style>\n",
              "<table border=\"1\" class=\"dataframe\">\n",
              "  <thead>\n",
              "    <tr style=\"text-align: right;\">\n",
              "      <th></th>\n",
              "      <th>PassengerId</th>\n",
              "      <th>Survived</th>\n",
              "      <th>Pclass</th>\n",
              "      <th>Age</th>\n",
              "      <th>SibSp</th>\n",
              "      <th>Parch</th>\n",
              "      <th>Fare</th>\n",
              "    </tr>\n",
              "  </thead>\n",
              "  <tbody>\n",
              "    <tr>\n",
              "      <th>count</th>\n",
              "      <td>891.000000</td>\n",
              "      <td>891.000000</td>\n",
              "      <td>891.000000</td>\n",
              "      <td>714.000000</td>\n",
              "      <td>891.000000</td>\n",
              "      <td>891.000000</td>\n",
              "      <td>891.000000</td>\n",
              "    </tr>\n",
              "    <tr>\n",
              "      <th>mean</th>\n",
              "      <td>446.000000</td>\n",
              "      <td>0.383838</td>\n",
              "      <td>2.308642</td>\n",
              "      <td>29.699118</td>\n",
              "      <td>0.523008</td>\n",
              "      <td>0.381594</td>\n",
              "      <td>32.204208</td>\n",
              "    </tr>\n",
              "    <tr>\n",
              "      <th>std</th>\n",
              "      <td>257.353842</td>\n",
              "      <td>0.486592</td>\n",
              "      <td>0.836071</td>\n",
              "      <td>14.526497</td>\n",
              "      <td>1.102743</td>\n",
              "      <td>0.806057</td>\n",
              "      <td>49.693429</td>\n",
              "    </tr>\n",
              "    <tr>\n",
              "      <th>min</th>\n",
              "      <td>1.000000</td>\n",
              "      <td>0.000000</td>\n",
              "      <td>1.000000</td>\n",
              "      <td>0.420000</td>\n",
              "      <td>0.000000</td>\n",
              "      <td>0.000000</td>\n",
              "      <td>0.000000</td>\n",
              "    </tr>\n",
              "    <tr>\n",
              "      <th>25%</th>\n",
              "      <td>223.500000</td>\n",
              "      <td>0.000000</td>\n",
              "      <td>2.000000</td>\n",
              "      <td>20.125000</td>\n",
              "      <td>0.000000</td>\n",
              "      <td>0.000000</td>\n",
              "      <td>7.910400</td>\n",
              "    </tr>\n",
              "    <tr>\n",
              "      <th>50%</th>\n",
              "      <td>446.000000</td>\n",
              "      <td>0.000000</td>\n",
              "      <td>3.000000</td>\n",
              "      <td>28.000000</td>\n",
              "      <td>0.000000</td>\n",
              "      <td>0.000000</td>\n",
              "      <td>14.454200</td>\n",
              "    </tr>\n",
              "    <tr>\n",
              "      <th>75%</th>\n",
              "      <td>668.500000</td>\n",
              "      <td>1.000000</td>\n",
              "      <td>3.000000</td>\n",
              "      <td>38.000000</td>\n",
              "      <td>1.000000</td>\n",
              "      <td>0.000000</td>\n",
              "      <td>31.000000</td>\n",
              "    </tr>\n",
              "    <tr>\n",
              "      <th>max</th>\n",
              "      <td>891.000000</td>\n",
              "      <td>1.000000</td>\n",
              "      <td>3.000000</td>\n",
              "      <td>80.000000</td>\n",
              "      <td>8.000000</td>\n",
              "      <td>6.000000</td>\n",
              "      <td>512.329200</td>\n",
              "    </tr>\n",
              "  </tbody>\n",
              "</table>\n",
              "</div>"
            ],
            "text/plain": [
              "       PassengerId    Survived      Pclass         Age       SibSp  \\\n",
              "count   891.000000  891.000000  891.000000  714.000000  891.000000   \n",
              "mean    446.000000    0.383838    2.308642   29.699118    0.523008   \n",
              "std     257.353842    0.486592    0.836071   14.526497    1.102743   \n",
              "min       1.000000    0.000000    1.000000    0.420000    0.000000   \n",
              "25%     223.500000    0.000000    2.000000   20.125000    0.000000   \n",
              "50%     446.000000    0.000000    3.000000   28.000000    0.000000   \n",
              "75%     668.500000    1.000000    3.000000   38.000000    1.000000   \n",
              "max     891.000000    1.000000    3.000000   80.000000    8.000000   \n",
              "\n",
              "            Parch        Fare  \n",
              "count  891.000000  891.000000  \n",
              "mean     0.381594   32.204208  \n",
              "std      0.806057   49.693429  \n",
              "min      0.000000    0.000000  \n",
              "25%      0.000000    7.910400  \n",
              "50%      0.000000   14.454200  \n",
              "75%      0.000000   31.000000  \n",
              "max      6.000000  512.329200  "
            ]
          },
          "metadata": {},
          "output_type": "display_data"
        },
        {
          "name": "stdout",
          "output_type": "stream",
          "text": [
            "\n",
            "Describe df_test:\n"
          ]
        },
        {
          "data": {
            "application/vnd.microsoft.datawrangler.viewer.v0+json": {
              "columns": [
                {
                  "name": "index",
                  "rawType": "object",
                  "type": "string"
                },
                {
                  "name": "PassengerId",
                  "rawType": "float64",
                  "type": "float"
                },
                {
                  "name": "Pclass",
                  "rawType": "float64",
                  "type": "float"
                },
                {
                  "name": "Age",
                  "rawType": "float64",
                  "type": "float"
                },
                {
                  "name": "SibSp",
                  "rawType": "float64",
                  "type": "float"
                },
                {
                  "name": "Parch",
                  "rawType": "float64",
                  "type": "float"
                },
                {
                  "name": "Fare",
                  "rawType": "float64",
                  "type": "float"
                }
              ],
              "conversionMethod": "pd.DataFrame",
              "ref": "f2eef566-2df8-4a1d-8301-4bfc9f7ff190",
              "rows": [
                [
                  "count",
                  "418.0",
                  "418.0",
                  "332.0",
                  "418.0",
                  "418.0",
                  "417.0"
                ],
                [
                  "mean",
                  "1100.5",
                  "2.2655502392344498",
                  "30.272590361445783",
                  "0.4473684210526316",
                  "0.3923444976076555",
                  "35.627188489208635"
                ],
                [
                  "std",
                  "120.81045760473994",
                  "0.8418375519640503",
                  "14.181209235624422",
                  "0.8967595611217135",
                  "0.9814288785371691",
                  "55.907576179973844"
                ],
                [
                  "min",
                  "892.0",
                  "1.0",
                  "0.17",
                  "0.0",
                  "0.0",
                  "0.0"
                ],
                [
                  "25%",
                  "996.25",
                  "1.0",
                  "21.0",
                  "0.0",
                  "0.0",
                  "7.8958"
                ],
                [
                  "50%",
                  "1100.5",
                  "3.0",
                  "27.0",
                  "0.0",
                  "0.0",
                  "14.4542"
                ],
                [
                  "75%",
                  "1204.75",
                  "3.0",
                  "39.0",
                  "1.0",
                  "0.0",
                  "31.5"
                ],
                [
                  "max",
                  "1309.0",
                  "3.0",
                  "76.0",
                  "8.0",
                  "9.0",
                  "512.3292"
                ]
              ],
              "shape": {
                "columns": 6,
                "rows": 8
              }
            },
            "text/html": [
              "<div>\n",
              "<style scoped>\n",
              "    .dataframe tbody tr th:only-of-type {\n",
              "        vertical-align: middle;\n",
              "    }\n",
              "\n",
              "    .dataframe tbody tr th {\n",
              "        vertical-align: top;\n",
              "    }\n",
              "\n",
              "    .dataframe thead th {\n",
              "        text-align: right;\n",
              "    }\n",
              "</style>\n",
              "<table border=\"1\" class=\"dataframe\">\n",
              "  <thead>\n",
              "    <tr style=\"text-align: right;\">\n",
              "      <th></th>\n",
              "      <th>PassengerId</th>\n",
              "      <th>Pclass</th>\n",
              "      <th>Age</th>\n",
              "      <th>SibSp</th>\n",
              "      <th>Parch</th>\n",
              "      <th>Fare</th>\n",
              "    </tr>\n",
              "  </thead>\n",
              "  <tbody>\n",
              "    <tr>\n",
              "      <th>count</th>\n",
              "      <td>418.000000</td>\n",
              "      <td>418.000000</td>\n",
              "      <td>332.000000</td>\n",
              "      <td>418.000000</td>\n",
              "      <td>418.000000</td>\n",
              "      <td>417.000000</td>\n",
              "    </tr>\n",
              "    <tr>\n",
              "      <th>mean</th>\n",
              "      <td>1100.500000</td>\n",
              "      <td>2.265550</td>\n",
              "      <td>30.272590</td>\n",
              "      <td>0.447368</td>\n",
              "      <td>0.392344</td>\n",
              "      <td>35.627188</td>\n",
              "    </tr>\n",
              "    <tr>\n",
              "      <th>std</th>\n",
              "      <td>120.810458</td>\n",
              "      <td>0.841838</td>\n",
              "      <td>14.181209</td>\n",
              "      <td>0.896760</td>\n",
              "      <td>0.981429</td>\n",
              "      <td>55.907576</td>\n",
              "    </tr>\n",
              "    <tr>\n",
              "      <th>min</th>\n",
              "      <td>892.000000</td>\n",
              "      <td>1.000000</td>\n",
              "      <td>0.170000</td>\n",
              "      <td>0.000000</td>\n",
              "      <td>0.000000</td>\n",
              "      <td>0.000000</td>\n",
              "    </tr>\n",
              "    <tr>\n",
              "      <th>25%</th>\n",
              "      <td>996.250000</td>\n",
              "      <td>1.000000</td>\n",
              "      <td>21.000000</td>\n",
              "      <td>0.000000</td>\n",
              "      <td>0.000000</td>\n",
              "      <td>7.895800</td>\n",
              "    </tr>\n",
              "    <tr>\n",
              "      <th>50%</th>\n",
              "      <td>1100.500000</td>\n",
              "      <td>3.000000</td>\n",
              "      <td>27.000000</td>\n",
              "      <td>0.000000</td>\n",
              "      <td>0.000000</td>\n",
              "      <td>14.454200</td>\n",
              "    </tr>\n",
              "    <tr>\n",
              "      <th>75%</th>\n",
              "      <td>1204.750000</td>\n",
              "      <td>3.000000</td>\n",
              "      <td>39.000000</td>\n",
              "      <td>1.000000</td>\n",
              "      <td>0.000000</td>\n",
              "      <td>31.500000</td>\n",
              "    </tr>\n",
              "    <tr>\n",
              "      <th>max</th>\n",
              "      <td>1309.000000</td>\n",
              "      <td>3.000000</td>\n",
              "      <td>76.000000</td>\n",
              "      <td>8.000000</td>\n",
              "      <td>9.000000</td>\n",
              "      <td>512.329200</td>\n",
              "    </tr>\n",
              "  </tbody>\n",
              "</table>\n",
              "</div>"
            ],
            "text/plain": [
              "       PassengerId      Pclass         Age       SibSp       Parch        Fare\n",
              "count   418.000000  418.000000  332.000000  418.000000  418.000000  417.000000\n",
              "mean   1100.500000    2.265550   30.272590    0.447368    0.392344   35.627188\n",
              "std     120.810458    0.841838   14.181209    0.896760    0.981429   55.907576\n",
              "min     892.000000    1.000000    0.170000    0.000000    0.000000    0.000000\n",
              "25%     996.250000    1.000000   21.000000    0.000000    0.000000    7.895800\n",
              "50%    1100.500000    3.000000   27.000000    0.000000    0.000000   14.454200\n",
              "75%    1204.750000    3.000000   39.000000    1.000000    0.000000   31.500000\n",
              "max    1309.000000    3.000000   76.000000    8.000000    9.000000  512.329200"
            ]
          },
          "metadata": {},
          "output_type": "display_data"
        },
        {
          "name": "stdout",
          "output_type": "stream",
          "text": [
            "\n",
            "Distribution of 'Survived' in df_train:\n"
          ]
        },
        {
          "data": {
            "text/plain": [
              "Survived\n",
              "0    549\n",
              "1    342\n",
              "Name: count, dtype: int64"
            ]
          },
          "metadata": {},
          "output_type": "display_data"
        },
        {
          "name": "stdout",
          "output_type": "stream",
          "text": [
            "\n",
            "Duplicated rows in df_train:\n"
          ]
        },
        {
          "data": {
            "application/vnd.microsoft.datawrangler.viewer.v0+json": {
              "columns": [
                {
                  "name": "index",
                  "rawType": "int64",
                  "type": "integer"
                },
                {
                  "name": "PassengerId",
                  "rawType": "int64",
                  "type": "integer"
                },
                {
                  "name": "Survived",
                  "rawType": "int64",
                  "type": "integer"
                },
                {
                  "name": "Pclass",
                  "rawType": "int64",
                  "type": "integer"
                },
                {
                  "name": "Name",
                  "rawType": "object",
                  "type": "string"
                },
                {
                  "name": "Sex",
                  "rawType": "object",
                  "type": "string"
                },
                {
                  "name": "Age",
                  "rawType": "float64",
                  "type": "float"
                },
                {
                  "name": "SibSp",
                  "rawType": "int64",
                  "type": "integer"
                },
                {
                  "name": "Parch",
                  "rawType": "int64",
                  "type": "integer"
                },
                {
                  "name": "Ticket",
                  "rawType": "object",
                  "type": "string"
                },
                {
                  "name": "Fare",
                  "rawType": "float64",
                  "type": "float"
                },
                {
                  "name": "Cabin",
                  "rawType": "object",
                  "type": "string"
                },
                {
                  "name": "Embarked",
                  "rawType": "object",
                  "type": "string"
                }
              ],
              "conversionMethod": "pd.DataFrame",
              "ref": "2239f7f1-7e72-454a-b3ff-7056e9c66ca6",
              "rows": [],
              "shape": {
                "columns": 12,
                "rows": 0
              }
            },
            "text/html": [
              "<div>\n",
              "<style scoped>\n",
              "    .dataframe tbody tr th:only-of-type {\n",
              "        vertical-align: middle;\n",
              "    }\n",
              "\n",
              "    .dataframe tbody tr th {\n",
              "        vertical-align: top;\n",
              "    }\n",
              "\n",
              "    .dataframe thead th {\n",
              "        text-align: right;\n",
              "    }\n",
              "</style>\n",
              "<table border=\"1\" class=\"dataframe\">\n",
              "  <thead>\n",
              "    <tr style=\"text-align: right;\">\n",
              "      <th></th>\n",
              "      <th>PassengerId</th>\n",
              "      <th>Survived</th>\n",
              "      <th>Pclass</th>\n",
              "      <th>Name</th>\n",
              "      <th>Sex</th>\n",
              "      <th>Age</th>\n",
              "      <th>SibSp</th>\n",
              "      <th>Parch</th>\n",
              "      <th>Ticket</th>\n",
              "      <th>Fare</th>\n",
              "      <th>Cabin</th>\n",
              "      <th>Embarked</th>\n",
              "    </tr>\n",
              "  </thead>\n",
              "  <tbody>\n",
              "  </tbody>\n",
              "</table>\n",
              "</div>"
            ],
            "text/plain": [
              "Empty DataFrame\n",
              "Columns: [PassengerId, Survived, Pclass, Name, Sex, Age, SibSp, Parch, Ticket, Fare, Cabin, Embarked]\n",
              "Index: []"
            ]
          },
          "metadata": {},
          "output_type": "display_data"
        },
        {
          "name": "stdout",
          "output_type": "stream",
          "text": [
            "\n",
            "Duplicated rows in df_test:\n"
          ]
        },
        {
          "data": {
            "application/vnd.microsoft.datawrangler.viewer.v0+json": {
              "columns": [
                {
                  "name": "index",
                  "rawType": "int64",
                  "type": "integer"
                },
                {
                  "name": "PassengerId",
                  "rawType": "int64",
                  "type": "integer"
                },
                {
                  "name": "Pclass",
                  "rawType": "int64",
                  "type": "integer"
                },
                {
                  "name": "Name",
                  "rawType": "object",
                  "type": "string"
                },
                {
                  "name": "Sex",
                  "rawType": "object",
                  "type": "string"
                },
                {
                  "name": "Age",
                  "rawType": "float64",
                  "type": "float"
                },
                {
                  "name": "SibSp",
                  "rawType": "int64",
                  "type": "integer"
                },
                {
                  "name": "Parch",
                  "rawType": "int64",
                  "type": "integer"
                },
                {
                  "name": "Ticket",
                  "rawType": "object",
                  "type": "string"
                },
                {
                  "name": "Fare",
                  "rawType": "float64",
                  "type": "float"
                },
                {
                  "name": "Cabin",
                  "rawType": "object",
                  "type": "string"
                },
                {
                  "name": "Embarked",
                  "rawType": "object",
                  "type": "string"
                }
              ],
              "conversionMethod": "pd.DataFrame",
              "ref": "2258cd66-a05f-4c5b-b8a7-3f2394bb8850",
              "rows": [],
              "shape": {
                "columns": 11,
                "rows": 0
              }
            },
            "text/html": [
              "<div>\n",
              "<style scoped>\n",
              "    .dataframe tbody tr th:only-of-type {\n",
              "        vertical-align: middle;\n",
              "    }\n",
              "\n",
              "    .dataframe tbody tr th {\n",
              "        vertical-align: top;\n",
              "    }\n",
              "\n",
              "    .dataframe thead th {\n",
              "        text-align: right;\n",
              "    }\n",
              "</style>\n",
              "<table border=\"1\" class=\"dataframe\">\n",
              "  <thead>\n",
              "    <tr style=\"text-align: right;\">\n",
              "      <th></th>\n",
              "      <th>PassengerId</th>\n",
              "      <th>Pclass</th>\n",
              "      <th>Name</th>\n",
              "      <th>Sex</th>\n",
              "      <th>Age</th>\n",
              "      <th>SibSp</th>\n",
              "      <th>Parch</th>\n",
              "      <th>Ticket</th>\n",
              "      <th>Fare</th>\n",
              "      <th>Cabin</th>\n",
              "      <th>Embarked</th>\n",
              "    </tr>\n",
              "  </thead>\n",
              "  <tbody>\n",
              "  </tbody>\n",
              "</table>\n",
              "</div>"
            ],
            "text/plain": [
              "Empty DataFrame\n",
              "Columns: [PassengerId, Pclass, Name, Sex, Age, SibSp, Parch, Ticket, Fare, Cabin, Embarked]\n",
              "Index: []"
            ]
          },
          "metadata": {},
          "output_type": "display_data"
        },
        {
          "name": "stdout",
          "output_type": "stream",
          "text": [
            "\n",
            "Correlation Matrix for df_train (numeric columns only):\n"
          ]
        },
        {
          "data": {
            "application/vnd.microsoft.datawrangler.viewer.v0+json": {
              "columns": [
                {
                  "name": "index",
                  "rawType": "object",
                  "type": "string"
                },
                {
                  "name": "PassengerId",
                  "rawType": "float64",
                  "type": "float"
                },
                {
                  "name": "Survived",
                  "rawType": "float64",
                  "type": "float"
                },
                {
                  "name": "Pclass",
                  "rawType": "float64",
                  "type": "float"
                },
                {
                  "name": "Age",
                  "rawType": "float64",
                  "type": "float"
                },
                {
                  "name": "SibSp",
                  "rawType": "float64",
                  "type": "float"
                },
                {
                  "name": "Parch",
                  "rawType": "float64",
                  "type": "float"
                },
                {
                  "name": "Fare",
                  "rawType": "float64",
                  "type": "float"
                }
              ],
              "conversionMethod": "pd.DataFrame",
              "ref": "a801bb51-f882-4d99-a7d4-4e7570ce4070",
              "rows": [
                [
                  "PassengerId",
                  "1.0",
                  "-0.0050066607670665175",
                  "-0.03514399403038102",
                  "0.036847197861327674",
                  "-0.0575268337844415",
                  "-0.0016520124027188366",
                  "0.012658219287491099"
                ],
                [
                  "Survived",
                  "-0.0050066607670665175",
                  "1.0",
                  "-0.33848103596101514",
                  "-0.07722109457217756",
                  "-0.035322498885735576",
                  "0.08162940708348335",
                  "0.2573065223849626"
                ],
                [
                  "Pclass",
                  "-0.03514399403038102",
                  "-0.33848103596101514",
                  "1.0",
                  "-0.36922601531551735",
                  "0.08308136284568686",
                  "0.018442671310748508",
                  "-0.5494996199439076"
                ],
                [
                  "Age",
                  "0.036847197861327674",
                  "-0.07722109457217756",
                  "-0.36922601531551735",
                  "1.0",
                  "-0.30824675892365666",
                  "-0.1891192626320352",
                  "0.09606669176903912"
                ],
                [
                  "SibSp",
                  "-0.0575268337844415",
                  "-0.035322498885735576",
                  "0.08308136284568686",
                  "-0.30824675892365666",
                  "1.0",
                  "0.41483769862015624",
                  "0.159651043242161"
                ],
                [
                  "Parch",
                  "-0.0016520124027188366",
                  "0.08162940708348335",
                  "0.018442671310748508",
                  "-0.1891192626320352",
                  "0.41483769862015624",
                  "1.0",
                  "0.21622494477076448"
                ],
                [
                  "Fare",
                  "0.012658219287491099",
                  "0.2573065223849626",
                  "-0.5494996199439076",
                  "0.09606669176903912",
                  "0.159651043242161",
                  "0.21622494477076448",
                  "1.0"
                ]
              ],
              "shape": {
                "columns": 7,
                "rows": 7
              }
            },
            "text/html": [
              "<div>\n",
              "<style scoped>\n",
              "    .dataframe tbody tr th:only-of-type {\n",
              "        vertical-align: middle;\n",
              "    }\n",
              "\n",
              "    .dataframe tbody tr th {\n",
              "        vertical-align: top;\n",
              "    }\n",
              "\n",
              "    .dataframe thead th {\n",
              "        text-align: right;\n",
              "    }\n",
              "</style>\n",
              "<table border=\"1\" class=\"dataframe\">\n",
              "  <thead>\n",
              "    <tr style=\"text-align: right;\">\n",
              "      <th></th>\n",
              "      <th>PassengerId</th>\n",
              "      <th>Survived</th>\n",
              "      <th>Pclass</th>\n",
              "      <th>Age</th>\n",
              "      <th>SibSp</th>\n",
              "      <th>Parch</th>\n",
              "      <th>Fare</th>\n",
              "    </tr>\n",
              "  </thead>\n",
              "  <tbody>\n",
              "    <tr>\n",
              "      <th>PassengerId</th>\n",
              "      <td>1.000000</td>\n",
              "      <td>-0.005007</td>\n",
              "      <td>-0.035144</td>\n",
              "      <td>0.036847</td>\n",
              "      <td>-0.057527</td>\n",
              "      <td>-0.001652</td>\n",
              "      <td>0.012658</td>\n",
              "    </tr>\n",
              "    <tr>\n",
              "      <th>Survived</th>\n",
              "      <td>-0.005007</td>\n",
              "      <td>1.000000</td>\n",
              "      <td>-0.338481</td>\n",
              "      <td>-0.077221</td>\n",
              "      <td>-0.035322</td>\n",
              "      <td>0.081629</td>\n",
              "      <td>0.257307</td>\n",
              "    </tr>\n",
              "    <tr>\n",
              "      <th>Pclass</th>\n",
              "      <td>-0.035144</td>\n",
              "      <td>-0.338481</td>\n",
              "      <td>1.000000</td>\n",
              "      <td>-0.369226</td>\n",
              "      <td>0.083081</td>\n",
              "      <td>0.018443</td>\n",
              "      <td>-0.549500</td>\n",
              "    </tr>\n",
              "    <tr>\n",
              "      <th>Age</th>\n",
              "      <td>0.036847</td>\n",
              "      <td>-0.077221</td>\n",
              "      <td>-0.369226</td>\n",
              "      <td>1.000000</td>\n",
              "      <td>-0.308247</td>\n",
              "      <td>-0.189119</td>\n",
              "      <td>0.096067</td>\n",
              "    </tr>\n",
              "    <tr>\n",
              "      <th>SibSp</th>\n",
              "      <td>-0.057527</td>\n",
              "      <td>-0.035322</td>\n",
              "      <td>0.083081</td>\n",
              "      <td>-0.308247</td>\n",
              "      <td>1.000000</td>\n",
              "      <td>0.414838</td>\n",
              "      <td>0.159651</td>\n",
              "    </tr>\n",
              "    <tr>\n",
              "      <th>Parch</th>\n",
              "      <td>-0.001652</td>\n",
              "      <td>0.081629</td>\n",
              "      <td>0.018443</td>\n",
              "      <td>-0.189119</td>\n",
              "      <td>0.414838</td>\n",
              "      <td>1.000000</td>\n",
              "      <td>0.216225</td>\n",
              "    </tr>\n",
              "    <tr>\n",
              "      <th>Fare</th>\n",
              "      <td>0.012658</td>\n",
              "      <td>0.257307</td>\n",
              "      <td>-0.549500</td>\n",
              "      <td>0.096067</td>\n",
              "      <td>0.159651</td>\n",
              "      <td>0.216225</td>\n",
              "      <td>1.000000</td>\n",
              "    </tr>\n",
              "  </tbody>\n",
              "</table>\n",
              "</div>"
            ],
            "text/plain": [
              "             PassengerId  Survived    Pclass       Age     SibSp     Parch  \\\n",
              "PassengerId     1.000000 -0.005007 -0.035144  0.036847 -0.057527 -0.001652   \n",
              "Survived       -0.005007  1.000000 -0.338481 -0.077221 -0.035322  0.081629   \n",
              "Pclass         -0.035144 -0.338481  1.000000 -0.369226  0.083081  0.018443   \n",
              "Age             0.036847 -0.077221 -0.369226  1.000000 -0.308247 -0.189119   \n",
              "SibSp          -0.057527 -0.035322  0.083081 -0.308247  1.000000  0.414838   \n",
              "Parch          -0.001652  0.081629  0.018443 -0.189119  0.414838  1.000000   \n",
              "Fare            0.012658  0.257307 -0.549500  0.096067  0.159651  0.216225   \n",
              "\n",
              "                 Fare  \n",
              "PassengerId  0.012658  \n",
              "Survived     0.257307  \n",
              "Pclass      -0.549500  \n",
              "Age          0.096067  \n",
              "SibSp        0.159651  \n",
              "Parch        0.216225  \n",
              "Fare         1.000000  "
            ]
          },
          "metadata": {},
          "output_type": "display_data"
        },
        {
          "name": "stdout",
          "output_type": "stream",
          "text": [
            "\n",
            "Unique values and counts for 'Sex' in df_train:\n"
          ]
        },
        {
          "data": {
            "text/plain": [
              "Sex\n",
              "male      577\n",
              "female    314\n",
              "Name: count, dtype: int64"
            ]
          },
          "metadata": {},
          "output_type": "display_data"
        },
        {
          "name": "stdout",
          "output_type": "stream",
          "text": [
            "\n",
            "Unique values and counts for 'Sex' in df_test:\n"
          ]
        },
        {
          "data": {
            "text/plain": [
              "Sex\n",
              "male      266\n",
              "female    152\n",
              "Name: count, dtype: int64"
            ]
          },
          "metadata": {},
          "output_type": "display_data"
        },
        {
          "name": "stdout",
          "output_type": "stream",
          "text": [
            "\n",
            "Unique values and counts for 'Embarked' in df_train:\n"
          ]
        },
        {
          "data": {
            "text/plain": [
              "Embarked\n",
              "S    644\n",
              "C    168\n",
              "Q     77\n",
              "Name: count, dtype: int64"
            ]
          },
          "metadata": {},
          "output_type": "display_data"
        },
        {
          "name": "stdout",
          "output_type": "stream",
          "text": [
            "\n",
            "Unique values and counts for 'Embarked' in df_test:\n"
          ]
        },
        {
          "data": {
            "text/plain": [
              "Embarked\n",
              "S    270\n",
              "C    102\n",
              "Q     46\n",
              "Name: count, dtype: int64"
            ]
          },
          "metadata": {},
          "output_type": "display_data"
        }
      ],
      "source": [
        "# Examine the shape of the DataFrames\n",
        "print(\"Shape of df_train:\", df_train.shape)\n",
        "print(\"Shape of df_test:\", df_test.shape)\n",
        "\n",
        "# Get info on the DataFrames\n",
        "print(\"\\nInfo of df_train:\")\n",
        "display(df_train.info())\n",
        "print(\"\\nInfo of df_test:\")\n",
        "display(df_test.info())\n",
        "\n",
        "# Descriptive statistics for numerical features\n",
        "print(\"\\nDescribe df_train:\")\n",
        "display(df_train.describe())\n",
        "print(\"\\nDescribe df_test:\")\n",
        "display(df_test.describe())\n",
        "\n",
        "# Analyze the distribution of the target variable\n",
        "print(\"\\nDistribution of 'Survived' in df_train:\")\n",
        "display(df_train['Survived'].value_counts())\n",
        "\n",
        "# Check for duplicated rows\n",
        "print(\"\\nDuplicated rows in df_train:\")\n",
        "display(df_train[df_train.duplicated()])\n",
        "print(\"\\nDuplicated rows in df_test:\")\n",
        "display(df_test[df_test.duplicated()])\n",
        "\n",
        "# Investigate correlation between features (excluding non-numeric columns)\n",
        "numeric_cols = df_train.select_dtypes(include=['number']).columns\n",
        "print(f\"\\nCorrelation Matrix for df_train (numeric columns only):\")\n",
        "display(df_train[numeric_cols].corr())\n",
        "\n",
        "# Explore categorical features\n",
        "categorical_cols = ['Sex', 'Embarked'] # these are the most important categorical columns\n",
        "for col in categorical_cols:\n",
        "    print(f\"\\nUnique values and counts for '{col}' in df_train:\")\n",
        "    display(df_train[col].value_counts())\n",
        "    if col in df_test.columns:\n",
        "      print(f\"\\nUnique values and counts for '{col}' in df_test:\")\n",
        "      display(df_test[col].value_counts())"
      ]
    },
    {
      "cell_type": "markdown",
      "metadata": {
        "id": "EGQk0Amzq6oX"
      },
      "source": [
        "## Data cleaning\n",
        "\n",
        "### Subtask:\n",
        "Clean the training and test datasets (`df_train` and `df_test`) by handling missing values.\n"
      ]
    },
    {
      "cell_type": "markdown",
      "metadata": {
        "id": "CcestphPq7fl"
      },
      "source": [
        "**Reasoning**:\n",
        "Fill missing values in numerical and categorical features of the training and test datasets with the median and mode respectively, then verify that there are no more missing values in these features.\n",
        "\n"
      ]
    },
    {
      "cell_type": "code",
      "execution_count": 12,
      "metadata": {
        "colab": {
          "base_uri": "https://localhost:8080/",
          "height": 437
        },
        "id": "9-vmUgC9q7vT",
        "outputId": "a766b7b2-5b0f-4cdc-b448-c8f35e6484d8"
      },
      "outputs": [
        {
          "name": "stdout",
          "output_type": "stream",
          "text": [
            "Missing values in df_train:\n"
          ]
        },
        {
          "data": {
            "text/plain": [
              "Age         0\n",
              "Fare        0\n",
              "Embarked    0\n",
              "Cabin       0\n",
              "dtype: int64"
            ]
          },
          "metadata": {},
          "output_type": "display_data"
        },
        {
          "name": "stdout",
          "output_type": "stream",
          "text": [
            "Missing values in df_test:\n"
          ]
        },
        {
          "data": {
            "text/plain": [
              "Age         0\n",
              "Fare        0\n",
              "Embarked    0\n",
              "Cabin       0\n",
              "dtype: int64"
            ]
          },
          "metadata": {},
          "output_type": "display_data"
        }
      ],
      "source": [
        "# Fill missing numerical values with the median\n",
        "for col in ['Age', 'Fare']:\n",
        "    if col in df_train.columns:\n",
        "        df_train[col] = df_train[col].fillna(df_train[col].median())\n",
        "    if col in df_test.columns:\n",
        "        df_test[col] = df_test[col].fillna(df_test[col].median())\n",
        "\n",
        "# Fill missing categorical values with the mode\n",
        "for col in ['Embarked', 'Cabin']:\n",
        "    if col in df_train.columns:\n",
        "        df_train[col] = df_train[col].fillna(df_train[col].mode()[0])\n",
        "    if col in df_test.columns:\n",
        "        df_test[col] = df_test[col].fillna(df_test[col].mode()[0])\n",
        "\n",
        "# Verify no missing values in specified columns\n",
        "print(\"Missing values in df_train:\")\n",
        "display(df_train[['Age', 'Fare', 'Embarked', 'Cabin']].isnull().sum())\n",
        "print(\"Missing values in df_test:\")\n",
        "display(df_test[['Age', 'Fare', 'Embarked', 'Cabin']].isnull().sum())"
      ]
    },
    {
      "cell_type": "markdown",
      "metadata": {
        "id": "Q4kEnmzPrAIq"
      },
      "source": [
        "## Data wrangling\n",
        "\n",
        "### Subtask:\n",
        "One-hot encode categorical features and normalize numerical features in the training and test datasets.  Combine the preprocessed datasets for easier handling.\n"
      ]
    },
    {
      "cell_type": "markdown",
      "metadata": {
        "id": "ULLL0yUIrA9s"
      },
      "source": [
        "**Reasoning**:\n",
        "One-hot encode categorical features, normalize numerical features, and combine the preprocessed DataFrames.\n",
        "\n"
      ]
    },
    {
      "cell_type": "code",
      "execution_count": 13,
      "metadata": {
        "colab": {
          "base_uri": "https://localhost:8080/",
          "height": 953
        },
        "id": "sV_RTDyOrBNb",
        "outputId": "3f376c1e-36b2-429c-d994-32fc65fb7943"
      },
      "outputs": [
        {
          "data": {
            "application/vnd.microsoft.datawrangler.viewer.v0+json": {
              "columns": [
                {
                  "name": "index",
                  "rawType": "int64",
                  "type": "integer"
                },
                {
                  "name": "Age",
                  "rawType": "float64",
                  "type": "float"
                },
                {
                  "name": "Cabin",
                  "rawType": "object",
                  "type": "string"
                },
                {
                  "name": "Embarked_C",
                  "rawType": "bool",
                  "type": "boolean"
                },
                {
                  "name": "Embarked_Q",
                  "rawType": "bool",
                  "type": "boolean"
                },
                {
                  "name": "Embarked_S",
                  "rawType": "bool",
                  "type": "boolean"
                },
                {
                  "name": "Fare",
                  "rawType": "float64",
                  "type": "float"
                },
                {
                  "name": "Name",
                  "rawType": "object",
                  "type": "string"
                },
                {
                  "name": "Parch",
                  "rawType": "float64",
                  "type": "float"
                },
                {
                  "name": "PassengerId",
                  "rawType": "int64",
                  "type": "integer"
                },
                {
                  "name": "Pclass",
                  "rawType": "float64",
                  "type": "float"
                },
                {
                  "name": "Sex_female",
                  "rawType": "bool",
                  "type": "boolean"
                },
                {
                  "name": "Sex_male",
                  "rawType": "bool",
                  "type": "boolean"
                },
                {
                  "name": "SibSp",
                  "rawType": "float64",
                  "type": "float"
                },
                {
                  "name": "Survived",
                  "rawType": "float64",
                  "type": "float"
                },
                {
                  "name": "Ticket",
                  "rawType": "object",
                  "type": "string"
                }
              ],
              "conversionMethod": "pd.DataFrame",
              "ref": "b583375d-d378-4db7-a0c9-25d816009b28",
              "rows": [
                [
                  "0",
                  "0.2711736617240512",
                  "B96 B98",
                  "False",
                  "False",
                  "True",
                  "0.014151057562208049",
                  "Braund, Mr. Owen Harris",
                  "0.0",
                  "1",
                  "1.0",
                  "False",
                  "True",
                  "0.125",
                  "0.0",
                  "A/5 21171"
                ],
                [
                  "1",
                  "0.4722292033174164",
                  "C85",
                  "True",
                  "False",
                  "False",
                  "0.13913573538264068",
                  "Cumings, Mrs. John Bradley (Florence Briggs Thayer)",
                  "0.0",
                  "2",
                  "0.0",
                  "True",
                  "False",
                  "0.125",
                  "1.0",
                  "PC 17599"
                ],
                [
                  "2",
                  "0.32143754712239253",
                  "B96 B98",
                  "False",
                  "False",
                  "True",
                  "0.015468569817999833",
                  "Heikkinen, Miss. Laina",
                  "0.0",
                  "3",
                  "1.0",
                  "True",
                  "False",
                  "0.0",
                  "1.0",
                  "STON/O2. 3101282"
                ],
                [
                  "3",
                  "0.4345312892686604",
                  "C123",
                  "False",
                  "False",
                  "True",
                  "0.10364429745562033",
                  "Futrelle, Mrs. Jacques Heath (Lily May Peel)",
                  "0.0",
                  "4",
                  "0.0",
                  "True",
                  "False",
                  "0.125",
                  "1.0",
                  "113803"
                ],
                [
                  "4",
                  "0.4345312892686604",
                  "B96 B98",
                  "False",
                  "False",
                  "True",
                  "0.015712553569072387",
                  "Allen, Mr. William Henry",
                  "0.0",
                  "5",
                  "1.0",
                  "False",
                  "True",
                  "0.0",
                  "0.0",
                  "373450"
                ]
              ],
              "shape": {
                "columns": 15,
                "rows": 5
              }
            },
            "text/html": [
              "<div>\n",
              "<style scoped>\n",
              "    .dataframe tbody tr th:only-of-type {\n",
              "        vertical-align: middle;\n",
              "    }\n",
              "\n",
              "    .dataframe tbody tr th {\n",
              "        vertical-align: top;\n",
              "    }\n",
              "\n",
              "    .dataframe thead th {\n",
              "        text-align: right;\n",
              "    }\n",
              "</style>\n",
              "<table border=\"1\" class=\"dataframe\">\n",
              "  <thead>\n",
              "    <tr style=\"text-align: right;\">\n",
              "      <th></th>\n",
              "      <th>Age</th>\n",
              "      <th>Cabin</th>\n",
              "      <th>Embarked_C</th>\n",
              "      <th>Embarked_Q</th>\n",
              "      <th>Embarked_S</th>\n",
              "      <th>Fare</th>\n",
              "      <th>Name</th>\n",
              "      <th>Parch</th>\n",
              "      <th>PassengerId</th>\n",
              "      <th>Pclass</th>\n",
              "      <th>Sex_female</th>\n",
              "      <th>Sex_male</th>\n",
              "      <th>SibSp</th>\n",
              "      <th>Survived</th>\n",
              "      <th>Ticket</th>\n",
              "    </tr>\n",
              "  </thead>\n",
              "  <tbody>\n",
              "    <tr>\n",
              "      <th>0</th>\n",
              "      <td>0.271174</td>\n",
              "      <td>B96 B98</td>\n",
              "      <td>False</td>\n",
              "      <td>False</td>\n",
              "      <td>True</td>\n",
              "      <td>0.014151</td>\n",
              "      <td>Braund, Mr. Owen Harris</td>\n",
              "      <td>0.0</td>\n",
              "      <td>1</td>\n",
              "      <td>1.0</td>\n",
              "      <td>False</td>\n",
              "      <td>True</td>\n",
              "      <td>0.125</td>\n",
              "      <td>0.0</td>\n",
              "      <td>A/5 21171</td>\n",
              "    </tr>\n",
              "    <tr>\n",
              "      <th>1</th>\n",
              "      <td>0.472229</td>\n",
              "      <td>C85</td>\n",
              "      <td>True</td>\n",
              "      <td>False</td>\n",
              "      <td>False</td>\n",
              "      <td>0.139136</td>\n",
              "      <td>Cumings, Mrs. John Bradley (Florence Briggs Th...</td>\n",
              "      <td>0.0</td>\n",
              "      <td>2</td>\n",
              "      <td>0.0</td>\n",
              "      <td>True</td>\n",
              "      <td>False</td>\n",
              "      <td>0.125</td>\n",
              "      <td>1.0</td>\n",
              "      <td>PC 17599</td>\n",
              "    </tr>\n",
              "    <tr>\n",
              "      <th>2</th>\n",
              "      <td>0.321438</td>\n",
              "      <td>B96 B98</td>\n",
              "      <td>False</td>\n",
              "      <td>False</td>\n",
              "      <td>True</td>\n",
              "      <td>0.015469</td>\n",
              "      <td>Heikkinen, Miss. Laina</td>\n",
              "      <td>0.0</td>\n",
              "      <td>3</td>\n",
              "      <td>1.0</td>\n",
              "      <td>True</td>\n",
              "      <td>False</td>\n",
              "      <td>0.000</td>\n",
              "      <td>1.0</td>\n",
              "      <td>STON/O2. 3101282</td>\n",
              "    </tr>\n",
              "    <tr>\n",
              "      <th>3</th>\n",
              "      <td>0.434531</td>\n",
              "      <td>C123</td>\n",
              "      <td>False</td>\n",
              "      <td>False</td>\n",
              "      <td>True</td>\n",
              "      <td>0.103644</td>\n",
              "      <td>Futrelle, Mrs. Jacques Heath (Lily May Peel)</td>\n",
              "      <td>0.0</td>\n",
              "      <td>4</td>\n",
              "      <td>0.0</td>\n",
              "      <td>True</td>\n",
              "      <td>False</td>\n",
              "      <td>0.125</td>\n",
              "      <td>1.0</td>\n",
              "      <td>113803</td>\n",
              "    </tr>\n",
              "    <tr>\n",
              "      <th>4</th>\n",
              "      <td>0.434531</td>\n",
              "      <td>B96 B98</td>\n",
              "      <td>False</td>\n",
              "      <td>False</td>\n",
              "      <td>True</td>\n",
              "      <td>0.015713</td>\n",
              "      <td>Allen, Mr. William Henry</td>\n",
              "      <td>0.0</td>\n",
              "      <td>5</td>\n",
              "      <td>1.0</td>\n",
              "      <td>False</td>\n",
              "      <td>True</td>\n",
              "      <td>0.000</td>\n",
              "      <td>0.0</td>\n",
              "      <td>373450</td>\n",
              "    </tr>\n",
              "  </tbody>\n",
              "</table>\n",
              "</div>"
            ],
            "text/plain": [
              "        Age    Cabin  Embarked_C  Embarked_Q  Embarked_S      Fare  \\\n",
              "0  0.271174  B96 B98       False       False        True  0.014151   \n",
              "1  0.472229      C85        True       False       False  0.139136   \n",
              "2  0.321438  B96 B98       False       False        True  0.015469   \n",
              "3  0.434531     C123       False       False        True  0.103644   \n",
              "4  0.434531  B96 B98       False       False        True  0.015713   \n",
              "\n",
              "                                                Name  Parch  PassengerId  \\\n",
              "0                            Braund, Mr. Owen Harris    0.0            1   \n",
              "1  Cumings, Mrs. John Bradley (Florence Briggs Th...    0.0            2   \n",
              "2                             Heikkinen, Miss. Laina    0.0            3   \n",
              "3       Futrelle, Mrs. Jacques Heath (Lily May Peel)    0.0            4   \n",
              "4                           Allen, Mr. William Henry    0.0            5   \n",
              "\n",
              "   Pclass  Sex_female  Sex_male  SibSp  Survived            Ticket  \n",
              "0     1.0       False      True  0.125       0.0         A/5 21171  \n",
              "1     0.0        True     False  0.125       1.0          PC 17599  \n",
              "2     1.0        True     False  0.000       1.0  STON/O2. 3101282  \n",
              "3     0.0        True     False  0.125       1.0            113803  \n",
              "4     1.0       False      True  0.000       0.0            373450  "
            ]
          },
          "metadata": {},
          "output_type": "display_data"
        },
        {
          "data": {
            "application/vnd.microsoft.datawrangler.viewer.v0+json": {
              "columns": [
                {
                  "name": "index",
                  "rawType": "int64",
                  "type": "integer"
                },
                {
                  "name": "Age",
                  "rawType": "float64",
                  "type": "float"
                },
                {
                  "name": "Cabin",
                  "rawType": "object",
                  "type": "string"
                },
                {
                  "name": "Embarked_C",
                  "rawType": "bool",
                  "type": "boolean"
                },
                {
                  "name": "Embarked_Q",
                  "rawType": "bool",
                  "type": "boolean"
                },
                {
                  "name": "Embarked_S",
                  "rawType": "bool",
                  "type": "boolean"
                },
                {
                  "name": "Fare",
                  "rawType": "float64",
                  "type": "float"
                },
                {
                  "name": "Name",
                  "rawType": "object",
                  "type": "string"
                },
                {
                  "name": "Parch",
                  "rawType": "float64",
                  "type": "float"
                },
                {
                  "name": "PassengerId",
                  "rawType": "int64",
                  "type": "integer"
                },
                {
                  "name": "Pclass",
                  "rawType": "float64",
                  "type": "float"
                },
                {
                  "name": "Sex_female",
                  "rawType": "bool",
                  "type": "boolean"
                },
                {
                  "name": "Sex_male",
                  "rawType": "bool",
                  "type": "boolean"
                },
                {
                  "name": "SibSp",
                  "rawType": "float64",
                  "type": "float"
                },
                {
                  "name": "Survived",
                  "rawType": "float64",
                  "type": "float"
                },
                {
                  "name": "Ticket",
                  "rawType": "object",
                  "type": "string"
                }
              ],
              "conversionMethod": "pd.DataFrame",
              "ref": "417d40f2-78e4-499c-9d00-4f3fb64c41ff",
              "rows": [
                [
                  "1304",
                  "0.33400351847197784",
                  "B57 B59 B63 B66",
                  "False",
                  "False",
                  "True",
                  "0.015712553569072387",
                  "Spector, Mr. Woolf",
                  "0.0",
                  "1305",
                  "1.0",
                  "False",
                  "True",
                  "0.0",
                  null,
                  "A.5. 3236"
                ],
                [
                  "1305",
                  "0.4847951746670017",
                  "C105",
                  "True",
                  "False",
                  "False",
                  "0.2125586439344078",
                  "Oliva y Ocana, Dona. Fermina",
                  "0.0",
                  "1306",
                  "0.0",
                  "True",
                  "False",
                  "0.0",
                  null,
                  "PC 17758"
                ],
                [
                  "1306",
                  "0.4785121889922091",
                  "B57 B59 B63 B66",
                  "False",
                  "False",
                  "True",
                  "0.014151057562208049",
                  "Saether, Mr. Simon Sivertsen",
                  "0.0",
                  "1307",
                  "1.0",
                  "False",
                  "True",
                  "0.0",
                  null,
                  "SOTON/O.Q. 3101262"
                ],
                [
                  "1307",
                  "0.33400351847197784",
                  "B57 B59 B63 B66",
                  "False",
                  "False",
                  "True",
                  "0.015712553569072387",
                  "Ware, Mr. Frederick",
                  "0.0",
                  "1308",
                  "1.0",
                  "False",
                  "True",
                  "0.0",
                  null,
                  "359309"
                ],
                [
                  "1308",
                  "0.33400351847197784",
                  "B57 B59 B63 B66",
                  "True",
                  "False",
                  "False",
                  "0.04364049521284362",
                  "Peter, Master. Michael J",
                  "0.16666666666666666",
                  "1309",
                  "1.0",
                  "False",
                  "True",
                  "0.125",
                  null,
                  "2668"
                ]
              ],
              "shape": {
                "columns": 15,
                "rows": 5
              }
            },
            "text/html": [
              "<div>\n",
              "<style scoped>\n",
              "    .dataframe tbody tr th:only-of-type {\n",
              "        vertical-align: middle;\n",
              "    }\n",
              "\n",
              "    .dataframe tbody tr th {\n",
              "        vertical-align: top;\n",
              "    }\n",
              "\n",
              "    .dataframe thead th {\n",
              "        text-align: right;\n",
              "    }\n",
              "</style>\n",
              "<table border=\"1\" class=\"dataframe\">\n",
              "  <thead>\n",
              "    <tr style=\"text-align: right;\">\n",
              "      <th></th>\n",
              "      <th>Age</th>\n",
              "      <th>Cabin</th>\n",
              "      <th>Embarked_C</th>\n",
              "      <th>Embarked_Q</th>\n",
              "      <th>Embarked_S</th>\n",
              "      <th>Fare</th>\n",
              "      <th>Name</th>\n",
              "      <th>Parch</th>\n",
              "      <th>PassengerId</th>\n",
              "      <th>Pclass</th>\n",
              "      <th>Sex_female</th>\n",
              "      <th>Sex_male</th>\n",
              "      <th>SibSp</th>\n",
              "      <th>Survived</th>\n",
              "      <th>Ticket</th>\n",
              "    </tr>\n",
              "  </thead>\n",
              "  <tbody>\n",
              "    <tr>\n",
              "      <th>1304</th>\n",
              "      <td>0.334004</td>\n",
              "      <td>B57 B59 B63 B66</td>\n",
              "      <td>False</td>\n",
              "      <td>False</td>\n",
              "      <td>True</td>\n",
              "      <td>0.015713</td>\n",
              "      <td>Spector, Mr. Woolf</td>\n",
              "      <td>0.000000</td>\n",
              "      <td>1305</td>\n",
              "      <td>1.0</td>\n",
              "      <td>False</td>\n",
              "      <td>True</td>\n",
              "      <td>0.000</td>\n",
              "      <td>NaN</td>\n",
              "      <td>A.5. 3236</td>\n",
              "    </tr>\n",
              "    <tr>\n",
              "      <th>1305</th>\n",
              "      <td>0.484795</td>\n",
              "      <td>C105</td>\n",
              "      <td>True</td>\n",
              "      <td>False</td>\n",
              "      <td>False</td>\n",
              "      <td>0.212559</td>\n",
              "      <td>Oliva y Ocana, Dona. Fermina</td>\n",
              "      <td>0.000000</td>\n",
              "      <td>1306</td>\n",
              "      <td>0.0</td>\n",
              "      <td>True</td>\n",
              "      <td>False</td>\n",
              "      <td>0.000</td>\n",
              "      <td>NaN</td>\n",
              "      <td>PC 17758</td>\n",
              "    </tr>\n",
              "    <tr>\n",
              "      <th>1306</th>\n",
              "      <td>0.478512</td>\n",
              "      <td>B57 B59 B63 B66</td>\n",
              "      <td>False</td>\n",
              "      <td>False</td>\n",
              "      <td>True</td>\n",
              "      <td>0.014151</td>\n",
              "      <td>Saether, Mr. Simon Sivertsen</td>\n",
              "      <td>0.000000</td>\n",
              "      <td>1307</td>\n",
              "      <td>1.0</td>\n",
              "      <td>False</td>\n",
              "      <td>True</td>\n",
              "      <td>0.000</td>\n",
              "      <td>NaN</td>\n",
              "      <td>SOTON/O.Q. 3101262</td>\n",
              "    </tr>\n",
              "    <tr>\n",
              "      <th>1307</th>\n",
              "      <td>0.334004</td>\n",
              "      <td>B57 B59 B63 B66</td>\n",
              "      <td>False</td>\n",
              "      <td>False</td>\n",
              "      <td>True</td>\n",
              "      <td>0.015713</td>\n",
              "      <td>Ware, Mr. Frederick</td>\n",
              "      <td>0.000000</td>\n",
              "      <td>1308</td>\n",
              "      <td>1.0</td>\n",
              "      <td>False</td>\n",
              "      <td>True</td>\n",
              "      <td>0.000</td>\n",
              "      <td>NaN</td>\n",
              "      <td>359309</td>\n",
              "    </tr>\n",
              "    <tr>\n",
              "      <th>1308</th>\n",
              "      <td>0.334004</td>\n",
              "      <td>B57 B59 B63 B66</td>\n",
              "      <td>True</td>\n",
              "      <td>False</td>\n",
              "      <td>False</td>\n",
              "      <td>0.043640</td>\n",
              "      <td>Peter, Master. Michael J</td>\n",
              "      <td>0.166667</td>\n",
              "      <td>1309</td>\n",
              "      <td>1.0</td>\n",
              "      <td>False</td>\n",
              "      <td>True</td>\n",
              "      <td>0.125</td>\n",
              "      <td>NaN</td>\n",
              "      <td>2668</td>\n",
              "    </tr>\n",
              "  </tbody>\n",
              "</table>\n",
              "</div>"
            ],
            "text/plain": [
              "           Age            Cabin  Embarked_C  Embarked_Q  Embarked_S      Fare  \\\n",
              "1304  0.334004  B57 B59 B63 B66       False       False        True  0.015713   \n",
              "1305  0.484795             C105        True       False       False  0.212559   \n",
              "1306  0.478512  B57 B59 B63 B66       False       False        True  0.014151   \n",
              "1307  0.334004  B57 B59 B63 B66       False       False        True  0.015713   \n",
              "1308  0.334004  B57 B59 B63 B66        True       False       False  0.043640   \n",
              "\n",
              "                              Name     Parch  PassengerId  Pclass  Sex_female  \\\n",
              "1304            Spector, Mr. Woolf  0.000000         1305     1.0       False   \n",
              "1305  Oliva y Ocana, Dona. Fermina  0.000000         1306     0.0        True   \n",
              "1306  Saether, Mr. Simon Sivertsen  0.000000         1307     1.0       False   \n",
              "1307           Ware, Mr. Frederick  0.000000         1308     1.0       False   \n",
              "1308      Peter, Master. Michael J  0.166667         1309     1.0       False   \n",
              "\n",
              "      Sex_male  SibSp  Survived              Ticket  \n",
              "1304      True  0.000       NaN           A.5. 3236  \n",
              "1305     False  0.000       NaN            PC 17758  \n",
              "1306      True  0.000       NaN  SOTON/O.Q. 3101262  \n",
              "1307      True  0.000       NaN              359309  \n",
              "1308      True  0.125       NaN                2668  "
            ]
          },
          "metadata": {},
          "output_type": "display_data"
        }
      ],
      "source": [
        "import pandas as pd\n",
        "from sklearn.preprocessing import MinMaxScaler\n",
        "\n",
        "# Identify categorical and numerical features\n",
        "categorical_features = ['Sex', 'Embarked']\n",
        "numerical_features = ['Age', 'Fare', 'SibSp', 'Parch', 'Pclass']\n",
        "\n",
        "# One-hot encode categorical features\n",
        "df_train = pd.get_dummies(df_train, columns=categorical_features)\n",
        "df_test = pd.get_dummies(df_test, columns=categorical_features)\n",
        "\n",
        "# Align columns in train and test sets\n",
        "df_train, df_test = df_train.align(df_test, join='outer', axis=1, fill_value=0)\n",
        "\n",
        "\n",
        "# Normalize numerical features\n",
        "scaler = MinMaxScaler()\n",
        "df_train[numerical_features] = scaler.fit_transform(df_train[numerical_features])\n",
        "df_test[numerical_features] = scaler.transform(df_test[numerical_features])\n",
        "\n",
        "# Combine the preprocessed DataFrames\n",
        "df_test['Survived'] = float('nan')  # Fill 'Survived' with NaN for test data\n",
        "combined_df = pd.concat([df_train, df_test], ignore_index=True)\n",
        "\n",
        "display(combined_df.head())\n",
        "display(combined_df.tail())"
      ]
    },
    {
      "cell_type": "markdown",
      "metadata": {
        "id": "UI8F-be8rFaG"
      },
      "source": [
        "## Data splitting\n",
        "\n",
        "### Subtask:\n",
        "Split the combined preprocessed dataset (`combined_df`) into training, validation, and test sets.\n"
      ]
    },
    {
      "cell_type": "markdown",
      "metadata": {
        "id": "oNgwjVDBrGRG"
      },
      "source": [
        "**Reasoning**:\n",
        "Split the combined dataframe into training, validation, and test sets based on the 'Survived' column, and prepare the data for model training.\n",
        "\n"
      ]
    },
    {
      "cell_type": "code",
      "execution_count": 14,
      "metadata": {
        "id": "tThFnUKarGgz"
      },
      "outputs": [],
      "source": [
        "from sklearn.model_selection import train_test_split\n",
        "\n",
        "# Split the combined dataframe into train and test sets\n",
        "train_data = combined_df[combined_df['Survived'].notna()]\n",
        "test_data = combined_df[combined_df['Survived'].isna()]\n",
        "\n",
        "# Separate features (X) and target (y) for training data\n",
        "X = train_data.drop(columns=['Survived'])\n",
        "y = train_data['Survived'].astype(int)\n",
        "passenger_ids = X['PassengerId']\n",
        "X = X.drop(columns=['PassengerId', 'Name', 'Cabin', 'Ticket'])\n",
        "\n",
        "# Split training data into training and validation sets\n",
        "X_train, X_val, y_train, y_val, ids_train, ids_val = train_test_split(\n",
        "    X, y, passenger_ids, test_size=0.2, random_state=42\n",
        ")"
      ]
    },
    {
      "cell_type": "markdown",
      "metadata": {
        "id": "xFhaGsOfrLHD"
      },
      "source": [
        "## Model training\n",
        "\n",
        "### Subtask:\n",
        "Implement a simple neural network from scratch to predict passenger survival.\n"
      ]
    },
    {
      "cell_type": "markdown",
      "metadata": {
        "id": "zG4lf7DMrMj1"
      },
      "source": [
        "**Reasoning**:\n",
        "Implement a simple neural network from scratch to predict passenger survival, including initialization, activation function, forward propagation, loss function, backpropagation, gradient descent, and training loop.\n",
        "\n"
      ]
    },
    {
      "cell_type": "code",
      "execution_count": 15,
      "metadata": {
        "id": "wtFuMZncrMzl"
      },
      "outputs": [],
      "source": [
        "import numpy as np\n",
        "\n",
        "# 1. Initialization\n",
        "input_size = X_train.shape[1]\n",
        "hidden_size = 10  # Number of neurons in the hidden layer\n",
        "output_size = 1\n",
        "learning_rate = 0.01\n",
        "epochs = 1000\n",
        "\n",
        "# Initialize weights and biases with small random values\n",
        "W1 = np.random.randn(input_size, hidden_size) * 0.01\n",
        "b1 = np.zeros((1, hidden_size))\n",
        "W2 = np.random.randn(hidden_size, output_size) * 0.01\n",
        "b2 = np.zeros((1, output_size))\n",
        "\n",
        "# 2. Activation Function\n",
        "def sigmoid(x):\n",
        "    # Ensure x is a NumPy array to avoid type errors\n",
        "    x = np.asarray(x)\n",
        "    return 1 / (1 + np.exp(-x))\n",
        "\n",
        "def sigmoid_derivative(x):\n",
        "    return x * (1 - x)\n",
        "\n",
        "\n",
        "# 3-7. Forward Propagation, Loss Function, Backpropagation, Gradient Descent, and Training Loop\n",
        "losses = []\n",
        "for epoch in range(epochs):\n",
        "    # Convert pandas Series to numpy arrays and ensure correct type\n",
        "    X_train_np = X_train.values.astype(np.float64)\n",
        "    y_train_np = y_train.values.astype(np.float64).reshape(-1, 1)\n",
        "\n",
        "    # Forward propagation\n",
        "    Z1 = np.dot(X_train_np, W1) + b1\n",
        "    A1 = sigmoid(Z1)\n",
        "    Z2 = np.dot(A1, W2) + b2\n",
        "    A2 = sigmoid(Z2)\n",
        "\n",
        "    # Loss Function (Binary Cross-Entropy)\n",
        "    m = len(y_train_np)\n",
        "    loss = (-1/m) * np.sum(y_train_np*np.log(A2) + (1-y_train_np)*np.log(1-A2))\n",
        "    losses.append(loss)\n",
        "\n",
        "    # Backpropagation\n",
        "    dZ2 = A2 - y_train_np\n",
        "    dW2 = (1/m) * np.dot(A1.T, dZ2)\n",
        "    db2 = (1/m) * np.sum(dZ2, axis=0, keepdims=True)\n",
        "    dZ1 = np.dot(dZ2, W2.T) * sigmoid_derivative(A1)\n",
        "    dW1 = (1/m) * np.dot(X_train_np.T, dZ1)\n",
        "    db1 = (1/m) * np.sum(dZ1, axis=0, keepdims=True)\n",
        "\n",
        "    # Gradient Descent\n",
        "    W1 -= learning_rate * dW1\n",
        "    b1 -= learning_rate * db1\n",
        "    W2 -= learning_rate * dW2\n",
        "    b2 -= learning_rate * db2\n",
        "\n",
        "# 8. Store Results\n",
        "trained_weights = {\"W1\": W1, \"W2\": W2}\n",
        "trained_biases = {\"b1\": b1, \"b2\": b2}"
      ]
    },
    {
      "cell_type": "markdown",
      "metadata": {
        "id": "c4JBVHntrdmm"
      },
      "source": [
        "## Model evaluation\n",
        "\n",
        "### Subtask:\n",
        "Evaluate the trained neural network on the validation set (`X_val`, `y_val`) and calculate its accuracy. Visualize the training loss curve.\n"
      ]
    },
    {
      "cell_type": "markdown",
      "metadata": {
        "id": "TZhCcAhLreeY"
      },
      "source": [
        "**Reasoning**:\n",
        "Evaluate the model on the validation set and plot the loss curve.\n",
        "\n"
      ]
    },
    {
      "cell_type": "code",
      "execution_count": 16,
      "metadata": {
        "colab": {
          "base_uri": "https://localhost:8080/",
          "height": 581
        },
        "id": "VXHL34ZDreuL",
        "outputId": "2f1133c4-e3ce-41c3-a5bb-7fa6856ff4c9"
      },
      "outputs": [
        {
          "name": "stdout",
          "output_type": "stream",
          "text": [
            "Validation Accuracy: 58.66%\n"
          ]
        },
        {
          "data": {
            "image/png": "[encoded data removed]",
            "text/plain": [
              "<Figure size 1000x600 with 1 Axes>"
            ]
          },
          "metadata": {},
          "output_type": "display_data"
        }
      ],
      "source": [
        "import numpy as np\n",
        "import matplotlib.pyplot as plt\n",
        "\n",
        "# 1. Prediction on Validation Set\n",
        "X_val_np = X_val.values.astype(np.float64)\n",
        "y_val_np = y_val.values.astype(np.float64).reshape(-1, 1)\n",
        "\n",
        "Z1_val = np.dot(X_val_np, trained_weights[\"W1\"]) + trained_biases[\"b1\"]\n",
        "A1_val = sigmoid(Z1_val)\n",
        "Z2_val = np.dot(A1_val, trained_weights[\"W2\"]) + trained_biases[\"b2\"]\n",
        "A2_val = sigmoid(Z2_val)\n",
        "\n",
        "predictions_val = np.round(A2_val)\n",
        "\n",
        "# 2. Accuracy Calculation\n",
        "correct_predictions = np.sum(predictions_val == y_val_np)\n",
        "accuracy = (correct_predictions / len(y_val_np)) * 100\n",
        "print(f\"Validation Accuracy: {accuracy:.2f}%\")\n",
        "\n",
        "# 3. Loss Curve Visualization\n",
        "plt.figure(figsize=(10, 6))\n",
        "plt.plot(losses)\n",
        "plt.xlabel(\"Epoch\")\n",
        "plt.ylabel(\"Loss\")\n",
        "plt.title(\"Training Loss Curve\")\n",
        "plt.grid(True)\n",
        "plt.show()"
      ]
    },
    {
      "cell_type": "markdown",
      "metadata": {
        "id": "_XlVpvR_riT8"
      },
      "source": [
        "## Data preparation\n",
        "\n",
        "### Subtask:\n",
        "Prepare the test dataset for prediction.\n"
      ]
    },
    {
      "cell_type": "markdown",
      "metadata": {
        "id": "WHUEVCtIrjLi"
      },
      "source": [
        "**Reasoning**:\n",
        "Extract features from the test dataset, drop irrelevant columns, ensure column order matches the training set, convert to a NumPy array, and store the result.\n",
        "\n"
      ]
    },
    {
      "cell_type": "code",
      "execution_count": 17,
      "metadata": {
        "id": "9CrgUCw8rjbS"
      },
      "outputs": [],
      "source": [
        "import numpy as np\n",
        "\n",
        "# Extract features from test_data and drop irrelevant columns\n",
        "X_test = test_data.drop(columns=['Survived', 'PassengerId', 'Name', 'Cabin', 'Ticket'])\n",
        "\n",
        "# Ensure columns in X_test match the order of columns in X_train\n",
        "X_test = X_test[X_train.columns]\n",
        "\n",
        "# Convert X_test to a NumPy array\n",
        "X_test_np = X_test.values.astype(np.float64)"
      ]
    },
    {
      "cell_type": "markdown",
      "metadata": {
        "id": "LIUiq1DWrnrN"
      },
      "source": [
        "## Model evaluation\n",
        "\n",
        "### Subtask:\n",
        "Generate predictions for the test set using the trained neural network and save them to a CSV file.\n"
      ]
    },
    {
      "cell_type": "markdown",
      "metadata": {
        "id": "wmDYDb2orojJ"
      },
      "source": [
        "**Reasoning**:\n",
        "Use the trained weights and biases to perform forward propagation on the test data, round the predictions, and save them to a CSV file.\n",
        "\n"
      ]
    },
    {
      "cell_type": "code",
      "execution_count": 18,
      "metadata": {
        "id": "zMLTpM5uroy6"
      },
      "outputs": [],
      "source": [
        "import numpy as np\n",
        "import pandas as pd\n",
        "\n",
        "# Forward propagation on the test set\n",
        "Z1_test = np.dot(X_test_np, trained_weights[\"W1\"]) + trained_biases[\"b1\"]\n",
        "A1_test = sigmoid(Z1_test)\n",
        "Z2_test = np.dot(A1_test, trained_weights[\"W2\"]) + trained_biases[\"b2\"]\n",
        "A2_test = sigmoid(Z2_test)\n",
        "\n",
        "# Round predictions to get binary values\n",
        "predictions_test = np.round(A2_test)\n",
        "\n",
        "# Create a DataFrame for submission\n",
        "submission_df = pd.DataFrame({\n",
        "    'PassengerId': test_data['PassengerId'],\n",
        "    'Survived': predictions_test.astype(int).flatten()\n",
        "})\n",
        "\n",
        "# Save the predictions to a CSV file\n",
        "submission_df.to_csv('predictions.csv', index=False)"
      ]
    },
    {
      "cell_type": "markdown",
      "metadata": {
        "id": "znJqc0i2rt2I"
      },
      "source": [
        "## Summary:\n",
        "\n",
        "### 1. Q&A\n",
        "\n",
        "* **Can a neural network predict Titanic passenger survival without using deep learning frameworks?** Yes, the provided solution demonstrates a basic neural network implemented from scratch using NumPy, successfully predicting survival.  The model achieved a validation accuracy of 58.66%.\n",
        "* **What is the impact of data type on model training?**  Incorrect data types caused initial failures. Explicitly converting data to `np.float64` resolved the type errors and enabled successful model training.\n",
        "* **How was model performance evaluated?** Model performance was evaluated on a validation set, achieving 58.66% accuracy. Training loss was also visualized.  The final predictions were saved to a `predictions.csv` file.\n",
        "\n",
        "### 2. Data Analysis Key Findings\n",
        "\n",
        "* **Missing Value Imputation:** Missing numerical values (Age, Fare) were filled using the median, while missing categorical values (Embarked, Cabin) were filled using the mode, performed separately on training and testing datasets to prevent data leakage.\n",
        "* **Feature Engineering:** Categorical features (Sex, Embarked) were one-hot encoded. Numerical features (Age, Fare, SibSp, Parch, Pclass) were normalized using MinMaxScaler.  The 'PassengerId' column was preserved throughout the process.\n",
        "* **Data Splitting:** The dataset was split into training (80%) and validation (20%) sets, using a random state of 42 for reproducibility.\n",
        "* **Model Performance:** The custom-built neural network achieved a validation accuracy of 58.66%. The training loss decreased over epochs, as visualized in the loss curve.\n",
        "* **Prediction File:** Predictions for the test dataset were saved to 'predictions.csv', including the 'PassengerId' and the predicted 'Survived' status.\n",
        "\n",
        "### 3. Insights or Next Steps\n",
        "\n",
        "* **Hyperparameter Tuning:** Experiment with different network architectures (e.g., number of hidden layers, neurons per layer), learning rates, and activation functions to improve model accuracy.  Explore different optimizers.\n",
        "* **Feature Importance:** Analyze feature importance to identify the most influential factors in predicting survival.  This could lead to feature selection or engineering new features based on those findings. Consider using other methods, like random forests, for feature importance analysis.\n"
      ]
    }
  ],
  "metadata": {
    "colab": {
      "provenance": []
    },
    "kernelspec": {
      "display_name": "Python 3",
      "name": "python3"
    },
    "language_info": {
      "codemirror_mode": {
        "name": "ipython",
        "version": 3
      },
      "file_extension": ".py",
      "mimetype": "text/x-python",
      "name": "python",
      "nbconvert_exporter": "python",
      "pygments_lexer": "ipython3",
      "version": "3.10.12"
    }
  },
  "nbformat": 4,
  "nbformat_minor": 0
}
